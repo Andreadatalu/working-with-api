{
 "cells": [
  {
   "cell_type": "markdown",
   "id": "1690e8c3",
   "metadata": {},
   "source": [
    "# 1. https://www.last.fm/ API ..."
   ]
  },
  {
   "cell_type": "code",
   "execution_count": 1,
   "id": "681b4bf8",
   "metadata": {},
   "outputs": [
    {
     "name": "stdout",
     "output_type": "stream",
     "text": [
      "········\n"
     ]
    }
   ],
   "source": [
    "import getpass\n",
    "import requests\n",
    "\n",
    "apikey = getpass.getpass()"
   ]
  },
  {
   "cell_type": "code",
   "execution_count": 2,
   "id": "00fb0647",
   "metadata": {},
   "outputs": [
    {
     "data": {
      "text/plain": [
       "<Response [200]>"
      ]
     },
     "execution_count": 2,
     "metadata": {},
     "output_type": "execute_result"
    }
   ],
   "source": [
    "#https://ws.audioscrobbler.com/2.0/?method=tag.gettoptracks&tag=disco&api_key=56d0107039fef06f3f21b01650385fa5&format=json \n",
    "\n",
    "response = requests.get('https://ws.audioscrobbler.com/2.0/?method=tag.gettoptracks&tag=disco&api_key=56d0107039fef06f3f21b01650385fa5&format=json')\n",
    "response"
   ]
  },
  {
   "cell_type": "code",
   "execution_count": 3,
   "id": "3f120066",
   "metadata": {},
   "outputs": [],
   "source": [
    "#response.json()"
   ]
  },
  {
   "cell_type": "code",
   "execution_count": 4,
   "id": "8878cdbd",
   "metadata": {},
   "outputs": [],
   "source": [
    "results = response.json()"
   ]
  },
  {
   "cell_type": "code",
   "execution_count": 5,
   "id": "4b4fcba0",
   "metadata": {},
   "outputs": [],
   "source": [
    "tracks = results['tracks']"
   ]
  },
  {
   "cell_type": "code",
   "execution_count": 6,
   "id": "ad2160a3",
   "metadata": {},
   "outputs": [],
   "source": [
    "track = tracks['track']\n",
    "#track"
   ]
  },
  {
   "cell_type": "code",
   "execution_count": 7,
   "id": "89877f3f",
   "metadata": {},
   "outputs": [],
   "source": [
    "from pandas import json_normalize \n",
    "\n",
    "flattened_data = json_normalize(track)\n",
    "#flattened_data"
   ]
  },
  {
   "cell_type": "code",
   "execution_count": 10,
   "id": "f03b1eaf",
   "metadata": {},
   "outputs": [
    {
     "data": {
      "text/html": [
       "<div>\n",
       "<style scoped>\n",
       "    .dataframe tbody tr th:only-of-type {\n",
       "        vertical-align: middle;\n",
       "    }\n",
       "\n",
       "    .dataframe tbody tr th {\n",
       "        vertical-align: top;\n",
       "    }\n",
       "\n",
       "    .dataframe thead th {\n",
       "        text-align: right;\n",
       "    }\n",
       "</style>\n",
       "<table border=\"1\" class=\"dataframe\">\n",
       "  <thead>\n",
       "    <tr style=\"text-align: right;\">\n",
       "      <th></th>\n",
       "      <th>name</th>\n",
       "      <th>duration</th>\n",
       "      <th>url</th>\n",
       "      <th>streamable.fulltrack</th>\n",
       "      <th>artist.name</th>\n",
       "      <th>artist.url</th>\n",
       "      <th>@attr.rank</th>\n",
       "    </tr>\n",
       "  </thead>\n",
       "  <tbody>\n",
       "    <tr>\n",
       "      <th>0</th>\n",
       "      <td>Billie Jean</td>\n",
       "      <td>293</td>\n",
       "      <td>https://www.last.fm/music/Michael+Jackson/_/Bi...</td>\n",
       "      <td>0</td>\n",
       "      <td>Michael Jackson</td>\n",
       "      <td>https://www.last.fm/music/Michael+Jackson</td>\n",
       "      <td>1</td>\n",
       "    </tr>\n",
       "    <tr>\n",
       "      <th>1</th>\n",
       "      <td>Dancing Queen</td>\n",
       "      <td>352</td>\n",
       "      <td>https://www.last.fm/music/ABBA/_/Dancing+Queen</td>\n",
       "      <td>0</td>\n",
       "      <td>ABBA</td>\n",
       "      <td>https://www.last.fm/music/ABBA</td>\n",
       "      <td>2</td>\n",
       "    </tr>\n",
       "    <tr>\n",
       "      <th>2</th>\n",
       "      <td>Thriller</td>\n",
       "      <td>358</td>\n",
       "      <td>https://www.last.fm/music/Michael+Jackson/_/Th...</td>\n",
       "      <td>0</td>\n",
       "      <td>Michael Jackson</td>\n",
       "      <td>https://www.last.fm/music/Michael+Jackson</td>\n",
       "      <td>3</td>\n",
       "    </tr>\n",
       "    <tr>\n",
       "      <th>3</th>\n",
       "      <td>The Less I Know the Better</td>\n",
       "      <td>0</td>\n",
       "      <td>https://www.last.fm/music/Tame+Impala/_/The+Le...</td>\n",
       "      <td>0</td>\n",
       "      <td>Tame Impala</td>\n",
       "      <td>https://www.last.fm/music/Tame+Impala</td>\n",
       "      <td>4</td>\n",
       "    </tr>\n",
       "    <tr>\n",
       "      <th>4</th>\n",
       "      <td>September</td>\n",
       "      <td>0</td>\n",
       "      <td>https://www.last.fm/music/Earth,+Wind+&amp;+Fire/_...</td>\n",
       "      <td>0</td>\n",
       "      <td>Earth, Wind &amp; Fire</td>\n",
       "      <td>https://www.last.fm/music/Earth,+Wind+&amp;+Fire</td>\n",
       "      <td>5</td>\n",
       "    </tr>\n",
       "  </tbody>\n",
       "</table>\n",
       "</div>"
      ],
      "text/plain": [
       "                         name duration  \\\n",
       "0                 Billie Jean      293   \n",
       "1               Dancing Queen      352   \n",
       "2                    Thriller      358   \n",
       "3  The Less I Know the Better        0   \n",
       "4                   September        0   \n",
       "\n",
       "                                                 url streamable.fulltrack  \\\n",
       "0  https://www.last.fm/music/Michael+Jackson/_/Bi...                    0   \n",
       "1     https://www.last.fm/music/ABBA/_/Dancing+Queen                    0   \n",
       "2  https://www.last.fm/music/Michael+Jackson/_/Th...                    0   \n",
       "3  https://www.last.fm/music/Tame+Impala/_/The+Le...                    0   \n",
       "4  https://www.last.fm/music/Earth,+Wind+&+Fire/_...                    0   \n",
       "\n",
       "          artist.name                                    artist.url @attr.rank  \n",
       "0     Michael Jackson     https://www.last.fm/music/Michael+Jackson          1  \n",
       "1                ABBA                https://www.last.fm/music/ABBA          2  \n",
       "2     Michael Jackson     https://www.last.fm/music/Michael+Jackson          3  \n",
       "3         Tame Impala         https://www.last.fm/music/Tame+Impala          4  \n",
       "4  Earth, Wind & Fire  https://www.last.fm/music/Earth,+Wind+&+Fire          5  "
      ]
     },
     "execution_count": 10,
     "metadata": {},
     "output_type": "execute_result"
    }
   ],
   "source": [
    "#flattened_data = flattened_data.drop (['mbid','artist.mbid','image','streamable.#text'], axis=1)\n",
    "flattened_data.head()"
   ]
  },
  {
   "cell_type": "markdown",
   "id": "30e5e429",
   "metadata": {},
   "source": [
    "# 2. Bank-holidays- UK"
   ]
  },
  {
   "cell_type": "code",
   "execution_count": 11,
   "id": "db647ca1",
   "metadata": {},
   "outputs": [],
   "source": [
    "import requests"
   ]
  },
  {
   "cell_type": "code",
   "execution_count": 12,
   "id": "0545d9af",
   "metadata": {},
   "outputs": [
    {
     "data": {
      "text/plain": [
       "<Response [200]>"
      ]
     },
     "execution_count": 12,
     "metadata": {},
     "output_type": "execute_result"
    }
   ],
   "source": [
    "response1 = requests.get('https://www.gov.uk/bank-holidays.json')\n",
    "response1"
   ]
  },
  {
   "cell_type": "code",
   "execution_count": 14,
   "id": "e634f0c7",
   "metadata": {},
   "outputs": [],
   "source": [
    "#response1.json()"
   ]
  },
  {
   "cell_type": "code",
   "execution_count": 15,
   "id": "67a2137f",
   "metadata": {},
   "outputs": [],
   "source": [
    "data = response1.json()"
   ]
  },
  {
   "cell_type": "code",
   "execution_count": 16,
   "id": "01189415",
   "metadata": {},
   "outputs": [],
   "source": [
    "division_data = []\n",
    "\n",
    "for division in data:\n",
    "    division_info = data[division]\n",
    "    events = division_info['events']\n",
    "    \n",
    "    for event in events:\n",
    "        event['division'] = division_info['division']\n",
    "        division_data.append(event)"
   ]
  },
  {
   "cell_type": "code",
   "execution_count": 17,
   "id": "0c2dedaf",
   "metadata": {},
   "outputs": [],
   "source": [
    "import pandas as pd\n",
    "uk_bankh = pd.json_normalize(division_data)"
   ]
  },
  {
   "cell_type": "code",
   "execution_count": 20,
   "id": "4d592edb",
   "metadata": {},
   "outputs": [],
   "source": [
    "#uk_bankh "
   ]
  },
  {
   "cell_type": "code",
   "execution_count": 19,
   "id": "a792bcb4",
   "metadata": {},
   "outputs": [
    {
     "data": {
      "text/html": [
       "<div>\n",
       "<style scoped>\n",
       "    .dataframe tbody tr th:only-of-type {\n",
       "        vertical-align: middle;\n",
       "    }\n",
       "\n",
       "    .dataframe tbody tr th {\n",
       "        vertical-align: top;\n",
       "    }\n",
       "\n",
       "    .dataframe thead th {\n",
       "        text-align: right;\n",
       "    }\n",
       "</style>\n",
       "<table border=\"1\" class=\"dataframe\">\n",
       "  <thead>\n",
       "    <tr style=\"text-align: right;\">\n",
       "      <th></th>\n",
       "      <th>title</th>\n",
       "      <th>date</th>\n",
       "      <th>division</th>\n",
       "    </tr>\n",
       "  </thead>\n",
       "  <tbody>\n",
       "    <tr>\n",
       "      <th>0</th>\n",
       "      <td>New Year’s Day</td>\n",
       "      <td>2018-01-01</td>\n",
       "      <td>england-and-wales</td>\n",
       "    </tr>\n",
       "    <tr>\n",
       "      <th>1</th>\n",
       "      <td>Good Friday</td>\n",
       "      <td>2018-03-30</td>\n",
       "      <td>england-and-wales</td>\n",
       "    </tr>\n",
       "    <tr>\n",
       "      <th>2</th>\n",
       "      <td>Easter Monday</td>\n",
       "      <td>2018-04-02</td>\n",
       "      <td>england-and-wales</td>\n",
       "    </tr>\n",
       "    <tr>\n",
       "      <th>3</th>\n",
       "      <td>Early May bank holiday</td>\n",
       "      <td>2018-05-07</td>\n",
       "      <td>england-and-wales</td>\n",
       "    </tr>\n",
       "    <tr>\n",
       "      <th>4</th>\n",
       "      <td>Spring bank holiday</td>\n",
       "      <td>2018-05-28</td>\n",
       "      <td>england-and-wales</td>\n",
       "    </tr>\n",
       "  </tbody>\n",
       "</table>\n",
       "</div>"
      ],
      "text/plain": [
       "                    title        date           division\n",
       "0          New Year’s Day  2018-01-01  england-and-wales\n",
       "1             Good Friday  2018-03-30  england-and-wales\n",
       "2           Easter Monday  2018-04-02  england-and-wales\n",
       "3  Early May bank holiday  2018-05-07  england-and-wales\n",
       "4     Spring bank holiday  2018-05-28  england-and-wales"
      ]
     },
     "execution_count": 19,
     "metadata": {},
     "output_type": "execute_result"
    }
   ],
   "source": [
    "uk_bankh = uk_bankh.drop(['notes','bunting'], axis=1)\n",
    "uk_bankh.head()"
   ]
  },
  {
   "cell_type": "markdown",
   "id": "417a372b",
   "metadata": {},
   "source": [
    "# 3. Emojis hub"
   ]
  },
  {
   "cell_type": "code",
   "execution_count": 21,
   "id": "b5962440",
   "metadata": {},
   "outputs": [
    {
     "data": {
      "text/plain": [
       "<Response [200]>"
      ]
     },
     "execution_count": 21,
     "metadata": {},
     "output_type": "execute_result"
    }
   ],
   "source": [
    "import requests\n",
    "\n",
    "response2 = requests.get('https://emojihub.yurace.pro/api/all')\n",
    "response2"
   ]
  },
  {
   "cell_type": "code",
   "execution_count": 23,
   "id": "27d8d2b9",
   "metadata": {},
   "outputs": [],
   "source": [
    "emoji = response2.json()\n",
    "#emoji"
   ]
  },
  {
   "cell_type": "code",
   "execution_count": 25,
   "id": "fb000345",
   "metadata": {},
   "outputs": [
    {
     "data": {
      "text/html": [
       "<div>\n",
       "<style scoped>\n",
       "    .dataframe tbody tr th:only-of-type {\n",
       "        vertical-align: middle;\n",
       "    }\n",
       "\n",
       "    .dataframe tbody tr th {\n",
       "        vertical-align: top;\n",
       "    }\n",
       "\n",
       "    .dataframe thead th {\n",
       "        text-align: right;\n",
       "    }\n",
       "</style>\n",
       "<table border=\"1\" class=\"dataframe\">\n",
       "  <thead>\n",
       "    <tr style=\"text-align: right;\">\n",
       "      <th></th>\n",
       "      <th>name</th>\n",
       "      <th>category</th>\n",
       "      <th>group</th>\n",
       "      <th>htmlCode</th>\n",
       "      <th>unicode</th>\n",
       "    </tr>\n",
       "  </thead>\n",
       "  <tbody>\n",
       "    <tr>\n",
       "      <th>0</th>\n",
       "      <td>grinning face</td>\n",
       "      <td>smileys and people</td>\n",
       "      <td>face positive</td>\n",
       "      <td>[&amp;#128512;]</td>\n",
       "      <td>[U+1F600]</td>\n",
       "    </tr>\n",
       "    <tr>\n",
       "      <th>1</th>\n",
       "      <td>grinning face with smiling eyes</td>\n",
       "      <td>smileys and people</td>\n",
       "      <td>face positive</td>\n",
       "      <td>[&amp;#128513;]</td>\n",
       "      <td>[U+1F601]</td>\n",
       "    </tr>\n",
       "    <tr>\n",
       "      <th>2</th>\n",
       "      <td>face with tears of joy</td>\n",
       "      <td>smileys and people</td>\n",
       "      <td>face positive</td>\n",
       "      <td>[&amp;#128514;]</td>\n",
       "      <td>[U+1F602]</td>\n",
       "    </tr>\n",
       "    <tr>\n",
       "      <th>3</th>\n",
       "      <td>rolling on the floor laughing</td>\n",
       "      <td>smileys and people</td>\n",
       "      <td>face positive</td>\n",
       "      <td>[&amp;#129315;]</td>\n",
       "      <td>[U+1F923]</td>\n",
       "    </tr>\n",
       "    <tr>\n",
       "      <th>4</th>\n",
       "      <td>smiling face with open mouth</td>\n",
       "      <td>smileys and people</td>\n",
       "      <td>face positive</td>\n",
       "      <td>[&amp;#128515;]</td>\n",
       "      <td>[U+1F603]</td>\n",
       "    </tr>\n",
       "  </tbody>\n",
       "</table>\n",
       "</div>"
      ],
      "text/plain": [
       "                              name            category          group  \\\n",
       "0                    grinning face  smileys and people  face positive   \n",
       "1  grinning face with smiling eyes  smileys and people  face positive   \n",
       "2           face with tears of joy  smileys and people  face positive   \n",
       "3    rolling on the floor laughing  smileys and people  face positive   \n",
       "4     smiling face with open mouth  smileys and people  face positive   \n",
       "\n",
       "      htmlCode    unicode  \n",
       "0  [&#128512;]  [U+1F600]  \n",
       "1  [&#128513;]  [U+1F601]  \n",
       "2  [&#128514;]  [U+1F602]  \n",
       "3  [&#129315;]  [U+1F923]  \n",
       "4  [&#128515;]  [U+1F603]  "
      ]
     },
     "execution_count": 25,
     "metadata": {},
     "output_type": "execute_result"
    }
   ],
   "source": [
    "flattened_emoji = json_normalize(emoji)\n",
    "\n",
    "flattened_emoji.head()"
   ]
  },
  {
   "cell_type": "code",
   "execution_count": null,
   "id": "a6b7108c",
   "metadata": {},
   "outputs": [],
   "source": []
  }
 ],
 "metadata": {
  "kernelspec": {
   "display_name": "Python 3 (ipykernel)",
   "language": "python",
   "name": "python3"
  },
  "language_info": {
   "codemirror_mode": {
    "name": "ipython",
    "version": 3
   },
   "file_extension": ".py",
   "mimetype": "text/x-python",
   "name": "python",
   "nbconvert_exporter": "python",
   "pygments_lexer": "ipython3",
   "version": "3.10.9"
  }
 },
 "nbformat": 4,
 "nbformat_minor": 5
}
